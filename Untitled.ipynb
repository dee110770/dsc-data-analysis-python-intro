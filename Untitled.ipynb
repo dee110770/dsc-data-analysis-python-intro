{
 "cells": [
  {
   "cell_type": "code",
   "execution_count": 7,
   "id": "f0d5e472-cd74-4810-ac62-3ade93018e93",
   "metadata": {},
   "outputs": [
    {
     "data": {
      "text/plain": [
       "[5, 6, 7]"
      ]
     },
     "execution_count": 7,
     "metadata": {},
     "output_type": "execute_result"
    }
   ],
   "source": [
    "x = [5,6,7]\n",
    "x"
   ]
  },
  {
   "cell_type": "code",
   "execution_count": 9,
   "id": "a1ec6dba-3360-4509-80c6-2bd30008e93a",
   "metadata": {},
   "outputs": [
    {
     "data": {
      "text/plain": [
       "'0x1d483ec5240'"
      ]
     },
     "execution_count": 9,
     "metadata": {},
     "output_type": "execute_result"
    }
   ],
   "source": [
    "hex(id(x))"
   ]
  },
  {
   "cell_type": "code",
   "execution_count": 11,
   "id": "bf6cba13-67cb-4e0b-a608-fdb87539ad9a",
   "metadata": {},
   "outputs": [
    {
     "data": {
      "text/plain": [
       "[10, 6, 7]"
      ]
     },
     "execution_count": 11,
     "metadata": {},
     "output_type": "execute_result"
    }
   ],
   "source": [
    "x[0] = 10\n",
    "x"
   ]
  },
  {
   "cell_type": "code",
   "execution_count": 13,
   "id": "c797d8d6-da54-4d6a-9749-bc2b5fb1a70e",
   "metadata": {},
   "outputs": [
    {
     "data": {
      "text/plain": [
       "'0x1d483ec5240'"
      ]
     },
     "execution_count": 13,
     "metadata": {},
     "output_type": "execute_result"
    }
   ],
   "source": [
    "hex(id(x))\n"
   ]
  },
  {
   "cell_type": "code",
   "execution_count": 1,
   "id": "c9dd2c96-696f-44bf-b298-6d3e2fd5f183",
   "metadata": {},
   "outputs": [
    {
     "ename": "NameError",
     "evalue": "name 'x' is not defined",
     "output_type": "error",
     "traceback": [
      "\u001b[1;31m---------------------------------------------------------------------------\u001b[0m",
      "\u001b[1;31mNameError\u001b[0m                                 Traceback (most recent call last)",
      "Cell \u001b[1;32mIn[1], line 1\u001b[0m\n\u001b[1;32m----> 1\u001b[0m \u001b[43mx\u001b[49m\n",
      "\u001b[1;31mNameError\u001b[0m: name 'x' is not defined"
     ]
    }
   ],
   "source": [
    "x\n"
   ]
  },
  {
   "cell_type": "code",
   "execution_count": 2,
   "id": "bb7c28f7-c92e-4feb-b253-d36eb8eadc67",
   "metadata": {},
   "outputs": [
    {
     "name": "stdout",
     "output_type": "stream",
     "text": [
      " Volume in drive C has no label.\n",
      " Volume Serial Number is CE2E-1AB5\n",
      "\n",
      " Directory of C:\\Users\\user\\documents\\flatiron\\dsc-data-science-env-config\\dsc-file-io\n",
      "\n",
      "09/04/2024  10:52 AM    <DIR>          .\n",
      "09/04/2024  10:52 AM    <DIR>          ..\n",
      "09/04/2024  08:51 AM               154 .canvas\n",
      "09/04/2024  08:51 AM    <DIR>          .github\n",
      "09/04/2024  08:51 AM             1,928 .gitignore\n",
      "09/04/2024  10:44 AM    <DIR>          .ipynb_checkpoints\n",
      "09/04/2024  08:51 AM             9,216 cities.xls\n",
      "09/04/2024  08:51 AM             2,261 colors_and_numbers.parquet\n",
      "09/04/2024  08:51 AM             5,238 dog.jpg\n",
      "09/04/2024  08:51 AM    <DIR>          dsc-github-actions-files\n",
      "09/04/2024  08:51 AM               884 food_prices.csv\n",
      "09/04/2024  08:51 AM           290,884 index.ipynb\n",
      "09/04/2024  08:51 AM    <DIR>          index_files\n",
      "09/04/2024  08:51 AM            20,489 kernel_menu.png\n",
      "09/04/2024  08:51 AM               623 leia.json\n",
      "09/04/2024  08:51 AM               811 leia.xml\n",
      "09/04/2024  08:51 AM            56,712 plot.pkl\n",
      "09/04/2024  08:51 AM            35,647 README.md\n",
      "09/04/2024  08:51 AM             4,857 splitter.py\n",
      "09/04/2024  10:52 AM             2,783 Untitled.ipynb\n",
      "09/04/2024  08:51 AM               880 zen_of_python.txt\n",
      "09/04/2024  08:51 AM               849 zen_of_python_cleaned.txt\n",
      "              16 File(s)        434,216 bytes\n",
      "               6 Dir(s)   3,156,160,512 bytes free\n"
     ]
    }
   ],
   "source": [
    "ls\n"
   ]
  },
  {
   "cell_type": "code",
   "execution_count": 8,
   "id": "b46ca3e2-b7a1-47ae-ba2d-7963ccf0fdd5",
   "metadata": {},
   "outputs": [],
   "source": [
    "file_path = \"zen_of_python.txt\"\n",
    "file_obj = open(file_path)"
   ]
  },
  {
   "cell_type": "code",
   "execution_count": null,
   "id": "1cbe0640-5857-41c5-925f-87b945c069d7",
   "metadata": {},
   "outputs": [],
   "source": [
    "ls\n"
   ]
  },
  {
   "cell_type": "code",
   "execution_count": null,
   "id": "6d896d11-5f2f-460c-b51c-6721a774df45",
   "metadata": {},
   "outputs": [],
   "source": []
  }
 ],
 "metadata": {
  "kernelspec": {
   "display_name": "Python (learn-env)",
   "language": "python",
   "name": "learn-env"
  },
  "language_info": {
   "codemirror_mode": {
    "name": "ipython",
    "version": 3
   },
   "file_extension": ".py",
   "mimetype": "text/x-python",
   "name": "python",
   "nbconvert_exporter": "python",
   "pygments_lexer": "ipython3",
   "version": "3.11.9"
  }
 },
 "nbformat": 4,
 "nbformat_minor": 5
}
